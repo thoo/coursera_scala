{
 "cells": [
  {
   "cell_type": "code",
   "execution_count": 52,
   "metadata": {
    "ExecuteTime": {
     "end_time": "2018-12-06T17:33:56.114437Z",
     "start_time": "2018-12-06T17:33:55.399Z"
    }
   },
   "outputs": [
    {
     "name": "stdout",
     "output_type": "stream",
     "text": [
      "Types will be printed.\n"
     ]
    }
   ],
   "source": [
    "%ShowTypes on"
   ]
  },
  {
   "cell_type": "code",
   "execution_count": 137,
   "metadata": {
    "ExecuteTime": {
     "end_time": "2018-12-06T18:02:37.872821Z",
     "start_time": "2018-12-06T18:02:37.788Z"
    }
   },
   "outputs": [
    {
     "data": {
      "text/plain": [
       "defined class Rational\n"
      ]
     },
     "metadata": {},
     "output_type": "display_data"
    }
   ],
   "source": [
    "class Rational(x: Int, y: Int){\n",
    "    require(y !=0, \"denominator should be nonzeroe value\")\n",
    "    \n",
    "    def this(x:Int)=this(x,1)\n",
    "    \n",
    "    private def gcd(a:Int, b:Int):Int= if(b ==0) a else gcd(b,a%b)\n",
    "    private def abs(a:Int)= if(a >=0) a else -a\n",
    "    private val g = abs(gcd(x,y))\n",
    "    \n",
    "    def numer = x / g\n",
    "    def denom = y / g \n",
    "    \n",
    "    def add(that:Rational): Rational = {\n",
    "        new Rational(\n",
    "      this.numer*that.denom + that.numer*this.denom, \n",
    "      this.denom*that.denom\n",
    "    )\n",
    "    }\n",
    "    \n",
    "    def less(that: Rational): Boolean = {\n",
    "    this.numer*that.denom < that.numer*this.denom\n",
    "    }\n",
    "    \n",
    "    \n",
    "    \n",
    "    override def toString = numer + \"/\" + denom\n",
    "    \n",
    "}"
   ]
  },
  {
   "cell_type": "code",
   "execution_count": 138,
   "metadata": {
    "ExecuteTime": {
     "end_time": "2018-12-06T18:02:41.763082Z",
     "start_time": "2018-12-06T18:02:41.554Z"
    }
   },
   "outputs": [
    {
     "data": {
      "text/plain": [
       "a1: Rational = Rational@6bebbabb\n"
      ]
     },
     "metadata": {},
     "output_type": "display_data"
    },
    {
     "data": {
      "text/plain": [
       "a1: Rational = Rational@6bebbabb\n"
      ]
     },
     "execution_count": 138,
     "metadata": {},
     "output_type": "execute_result"
    }
   ],
   "source": [
    "val a1=new Rational(1,4)"
   ]
  },
  {
   "cell_type": "code",
   "execution_count": 139,
   "metadata": {
    "ExecuteTime": {
     "end_time": "2018-12-06T18:02:43.369918Z",
     "start_time": "2018-12-06T18:02:43.164Z"
    }
   },
   "outputs": [
    {
     "data": {
      "text/plain": [
       "b: Rational = Rational@79e1fd17\n"
      ]
     },
     "metadata": {},
     "output_type": "display_data"
    },
    {
     "data": {
      "text/plain": [
       "b: Rational = Rational@79e1fd17\n"
      ]
     },
     "execution_count": 139,
     "metadata": {},
     "output_type": "execute_result"
    }
   ],
   "source": [
    "val b=new Rational(3,4)"
   ]
  },
  {
   "cell_type": "code",
   "execution_count": null,
   "metadata": {},
   "outputs": [],
   "source": []
  },
  {
   "cell_type": "code",
   "execution_count": 123,
   "metadata": {
    "ExecuteTime": {
     "end_time": "2018-12-06T17:58:12.592040Z",
     "start_time": "2018-12-06T17:58:12.510Z"
    }
   },
   "outputs": [
    {
     "data": {
      "text/plain": [
       "Tostr: (x: Rational)Unit\n"
      ]
     },
     "metadata": {},
     "output_type": "display_data"
    }
   ],
   "source": [
    "def Tostr(x:Rational):Unit=println(x.numer+\"/\"+x.denom)"
   ]
  },
  {
   "cell_type": "code",
   "execution_count": 130,
   "metadata": {
    "ExecuteTime": {
     "end_time": "2018-12-06T17:58:53.420397Z",
     "start_time": "2018-12-06T17:58:53.336Z"
    }
   },
   "outputs": [
    {
     "name": "stdout",
     "output_type": "stream",
     "text": [
      "3/4\n"
     ]
    }
   ],
   "source": [
    "Tostr(a)"
   ]
  },
  {
   "cell_type": "code",
   "execution_count": 132,
   "metadata": {
    "ExecuteTime": {
     "end_time": "2018-12-06T17:59:06.482409Z",
     "start_time": "2018-12-06T17:59:06.277Z"
    }
   },
   "outputs": [
    {
     "data": {
      "text/plain": [
       "add12: Rational = Rational@3b3f66c4\n"
      ]
     },
     "metadata": {},
     "output_type": "display_data"
    },
    {
     "data": {
      "text/plain": [
       "add12: Rational = Rational@3b3f66c4\n"
      ]
     },
     "execution_count": 132,
     "metadata": {},
     "output_type": "execute_result"
    }
   ],
   "source": [
    "val add12= a1.add(b)"
   ]
  },
  {
   "cell_type": "code",
   "execution_count": 135,
   "metadata": {
    "ExecuteTime": {
     "end_time": "2018-12-06T17:59:18.948472Z",
     "start_time": "2018-12-06T17:59:18.885Z"
    }
   },
   "outputs": [
    {
     "name": "stdout",
     "output_type": "stream",
     "text": [
      "1/1\n"
     ]
    }
   ],
   "source": [
    "Tostr(add12)"
   ]
  },
  {
   "cell_type": "code",
   "execution_count": 59,
   "metadata": {
    "ExecuteTime": {
     "end_time": "2018-12-06T17:34:30.355576Z",
     "start_time": "2018-12-06T17:34:30.275Z"
    }
   },
   "outputs": [
    {
     "name": "stdout",
     "output_type": "stream",
     "text": [
      "$line23.$read$$iw$$iw$Rational@7ee680e3\n"
     ]
    }
   ],
   "source": [
    "println(a)"
   ]
  },
  {
   "cell_type": "code",
   "execution_count": 136,
   "metadata": {
    "ExecuteTime": {
     "end_time": "2018-12-06T18:01:01.148286Z",
     "start_time": "2018-12-06T18:01:01.079Z"
    }
   },
   "outputs": [
    {
     "name": "stdout",
     "output_type": "stream",
     "text": [
      "$line23.$read$$iw$$iw$Rational@7ee680e3\n"
     ]
    }
   ],
   "source": [
    "println(a.toString)"
   ]
  },
  {
   "cell_type": "code",
   "execution_count": null,
   "metadata": {},
   "outputs": [],
   "source": []
  }
 ],
 "metadata": {
  "kernelspec": {
   "display_name": "Apache Toree - Scala",
   "language": "scala",
   "name": "apache_toree_scala"
  },
  "language_info": {
   "codemirror_mode": "text/x-scala",
   "file_extension": ".scala",
   "mimetype": "text/x-scala",
   "name": "scala",
   "pygments_lexer": "scala",
   "version": "2.11.12"
  },
  "toc": {
   "base_numbering": 1,
   "nav_menu": {
    "height": "4px",
    "width": "254px"
   },
   "number_sections": true,
   "sideBar": true,
   "skip_h1_title": false,
   "title_cell": "Table of Contents",
   "title_sidebar": "Contents",
   "toc_cell": false,
   "toc_position": {},
   "toc_section_display": "block",
   "toc_window_display": false
  }
 },
 "nbformat": 4,
 "nbformat_minor": 2
}
